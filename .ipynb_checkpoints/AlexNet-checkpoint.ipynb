{
 "cells": [
  {
   "cell_type": "code",
   "execution_count": 1,
   "id": "8a9d5305",
   "metadata": {},
   "outputs": [],
   "source": [
    "import time\n",
    "import torch\n",
    "import torchvision\n",
    "import random\n",
    "from torch import nn\n",
    "from torch.nn import functional as F\n",
    "from torchvision import transforms\n",
    "import matplotlib.pyplot as plt"
   ]
  },
  {
   "cell_type": "markdown",
   "id": "7426ff18",
   "metadata": {},
   "source": [
    "### Data Module"
   ]
  },
  {
   "cell_type": "code",
   "execution_count": 2,
   "id": "d313dd4c",
   "metadata": {},
   "outputs": [],
   "source": [
    "class DataModule:\n",
    "    def __init__(self, root='../../data', num_workers=4):\n",
    "        self.root = root\n",
    "        self.num_workers = num_workers\n",
    "\n",
    "    def get_dataloader(self, train):\n",
    "        raise NotImplementedError\n",
    "\n",
    "    def train_dataloader(self):\n",
    "        return self.get_dataloader(train=True)\n",
    "\n",
    "    def val_dataloader(self):\n",
    "        return self.get_dataloader(train=False)"
   ]
  },
  {
   "cell_type": "markdown",
   "id": "14707a37",
   "metadata": {},
   "source": [
    "### Fashion MNIST Data "
   ]
  },
  {
   "cell_type": "code",
   "execution_count": 3,
   "id": "1468aa7f",
   "metadata": {},
   "outputs": [],
   "source": [
    "class FashionMNIST(DataModule):\n",
    "    def __init__(self, batch_size=64, resize=(28, 28),subset=False,subset_size=10000):\n",
    "        super().__init__()\n",
    "        self.batch_size = batch_size\n",
    "        self.resize = resize\n",
    "        self.subset = subset\n",
    "        self.subset_size = subset_size\n",
    "        trans = transforms.Compose([transforms.Resize(resize),\n",
    "                                    transforms.ToTensor()])\n",
    "        self.train = torchvision.datasets.FashionMNIST(\n",
    "            root=self.root, train=True, transform=trans, download=True)\n",
    "        self.val = torchvision.datasets.FashionMNIST(\n",
    "            root=self.root, train=False, transform=trans, download=True)\n",
    "\n",
    "        self.get_subset_data()\n",
    "        \n",
    "    def text_labels(self):\n",
    "        labels_map = {\n",
    "            0: \"T-Shirt\",\n",
    "            1: \"Trouser\",\n",
    "            2: \"Pullover\",\n",
    "            3: \"Dress\",\n",
    "            4: \"Coat\",\n",
    "            5: \"Sandal\",\n",
    "            6: \"Shirt\",\n",
    "            7: \"Sneaker\",\n",
    "            8: \"Bag\",\n",
    "            9: \"Ankle Boot\",\n",
    "        }\n",
    "        return labels_map\n",
    "    \n",
    "    def get_dataloader(self, train):\n",
    "        data = self.train if train else self.val\n",
    "        return torch.utils.data.DataLoader(data, self.batch_size, shuffle=train,\n",
    "                                       num_workers=self.num_workers)\n",
    "    def get_subset_data(self):\n",
    "        if self.subset:\n",
    "            subset_indices_train = list(range(self.subset_size))\n",
    "            self.train = torch.utils.data.Subset(self.train, subset_indices_train)\n",
    "            subset_indices_val = list(range(100))\n",
    "            self.val = torch.utils.data.Subset(self.val, subset_indices_val)\n",
    "        \n",
    "        \n",
    "    def visualize(self):\n",
    "        figure = plt.figure(figsize=(8, 3))\n",
    "        cols, rows = 5, 2\n",
    "        for i in range(1, cols * rows + 1):\n",
    "            sample_idx = torch.randint(len(self.train), size=(1,)).item()\n",
    "            img, label = self.train[sample_idx]\n",
    "            figure.add_subplot(rows, cols, i)\n",
    "            plt.title(self.text_labels()[label])\n",
    "            plt.axis(\"off\")\n",
    "            plt.imshow(img.squeeze())\n",
    "        plt.show()"
   ]
  },
  {
   "cell_type": "markdown",
   "id": "99133d41",
   "metadata": {},
   "source": [
    "#### Preview Data"
   ]
  },
  {
   "cell_type": "code",
   "execution_count": 4,
   "id": "e483f339",
   "metadata": {},
   "outputs": [
    {
     "name": "stdout",
     "output_type": "stream",
     "text": [
      "100\n"
     ]
    },
    {
     "data": {
      "image/png": "[encoded data removed]",
      "text/plain": [
       "<Figure size 800x300 with 10 Axes>"
      ]
     },
     "metadata": {},
     "output_type": "display_data"
    }
   ],
   "source": [
    "data = FashionMNIST(resize=(28, 28),subset=True,subset_size=100)\n",
    "print(len(data.val))\n",
    "data.visualize()"
   ]
  },
  {
   "cell_type": "markdown",
   "id": "9d6344a0",
   "metadata": {},
   "source": [
    "### Models"
   ]
  },
  {
   "cell_type": "code",
   "execution_count": 5,
   "id": "94e926d6",
   "metadata": {},
   "outputs": [],
   "source": [
    "class Module(nn.Module):\n",
    "    def __init__(self):\n",
    "        super().__init__()\n",
    "\n",
    "    def forward(self, X):\n",
    "        assert hasattr(self, 'net'), 'Neural network is defined'\n",
    "        return self.net(X)\n",
    "\n",
    "    def plot(self, key, value, train):\n",
    "        ...\n",
    "    \n",
    "    def training_step(self, batch):\n",
    "        X = batch[:-1][0]\n",
    "        Y = batch[-1]\n",
    "        pred = self.forward(X)\n",
    "        l = self.loss(pred, Y)\n",
    "        return l\n",
    "\n",
    "\n",
    "    def validation_step(self, batch):\n",
    "        X = batch[:-1][0]\n",
    "        Y = batch[-1]\n",
    "        pred = self.forward(X)\n",
    "        l = self.loss(pred, Y)\n",
    "        self.plot('loss', l, train=False)\n",
    "\n",
    "    \n",
    "    def configure_optimizers(self):\n",
    "        return torch.optim.SGD(self.parameters(), lr=self.lr)"
   ]
  },
  {
   "cell_type": "markdown",
   "id": "b59b5757",
   "metadata": {},
   "source": [
    "### Classifier Class"
   ]
  },
  {
   "cell_type": "code",
   "execution_count": 6,
   "id": "5f91b03f",
   "metadata": {},
   "outputs": [],
   "source": [
    "class Classifier(Module):\n",
    "    def __init__(self):\n",
    "        super(). __init__()\n",
    "\n",
    "        \n",
    "    def accuracy(self, batch, averaged=False):\n",
    "        X = batch[:-1][0]\n",
    "        Y = batch[-1]\n",
    "        Y_hat = self.forward(X)\n",
    "        preds = Y_hat.argmax(axis=1)\n",
    "        num_right = (preds == Y.reshape(-1)).type(torch.float32)\n",
    "        num_wrong = (preds != Y.reshape(-1)).type(torch.float32)\n",
    "        if averaged:\n",
    "            return (num_right.mean(),num_wrong.mean())\n",
    "        else:\n",
    "            return (num_right.sum(),num_wrong.sum())\n",
    "    \n",
    "    \n",
    "    def loss(self, Y_hat, Y, averaged=True):\n",
    "        Y_hat = Y_hat.reshape((-1, Y_hat.shape[-1]))\n",
    "        Y = Y.reshape((-1,))\n",
    "        return F.cross_entropy(\n",
    "            Y_hat, Y, reduction='mean' if averaged else 'none')"
   ]
  },
  {
   "cell_type": "markdown",
   "id": "22bb82da",
   "metadata": {},
   "source": [
    "### Trainer"
   ]
  },
  {
   "cell_type": "code",
   "execution_count": 7,
   "id": "7b3404eb",
   "metadata": {},
   "outputs": [],
   "source": [
    "class Trainer:  \n",
    "    def __init__(self, max_epochs, gpu=False, gradient_clip_val=0):\n",
    "        self.max_epochs = max_epochs\n",
    "        self.gpu = gpu\n",
    "        self.gradient_clip_val = gradient_clip_val\n",
    "\n",
    "    def prepare_data(self, data):\n",
    "        self.train_dataloader = data.train_dataloader()\n",
    "        self.val_dataloader = data.val_dataloader()\n",
    "        self.num_train_batches = len(self.train_dataloader)\n",
    "        self.num_val_batches = (len(self.val_dataloader)\n",
    "                                if self.val_dataloader is not None else 0)\n",
    "        \n",
    "\n",
    "    def fit(self, model, data):\n",
    "        self.prepare_data(data)\n",
    "        self.prepare_model(model)\n",
    "        self.optim = model.configure_optimizers()\n",
    "        self.epoch = 0\n",
    "        self.train_batch_idx = 0\n",
    "        self.val_batch_idx = 0\n",
    "        self.train_acc = []\n",
    "        self.train_loss = []\n",
    "        self.val_acc = []\n",
    "        self.val_loss = []\n",
    "        for self.epoch in range(self.max_epochs):\n",
    "            print(f'Epoch:: {self.epoch} ')\n",
    "            self.fit_epoch()\n",
    "            self.val_epoch()\n",
    "        self.plot_loss()\n",
    "        self.plot_accuracy()\n",
    "            \n",
    "    def fit_epoch(self):\n",
    "        self.model.train()\n",
    "        num_right = 0.0\n",
    "        num_wrong = 0.0\n",
    "        for batch in self.train_dataloader:\n",
    "            batch = self.prepare_batch(batch)\n",
    "            loss = self.model.training_step(batch)\n",
    "            self.optim.zero_grad()\n",
    "            with torch.no_grad():\n",
    "                loss.backward()\n",
    "                if self.gradient_clip_val > 0:\n",
    "                    self.clip_gradients(self.gradient_clip_val, self.model)\n",
    "                self.optim.step()\n",
    "            self.train_batch_idx += 1\n",
    "            r, w = self.model.accuracy(batch, averaged=False)\n",
    "            num_right += r\n",
    "            num_wrong += w\n",
    "        print(f'Accuracy: {num_right / (num_right + num_wrong) *100}')\n",
    "        self.train_acc.append(num_right / (num_right + num_wrong) *100)\n",
    "        self.train_loss.append(num_wrong / (num_right + num_wrong) *100)\n",
    "     \n",
    "    def val_epoch(self):\n",
    "        num_right = 0.0\n",
    "        num_wrong = 0.0\n",
    "        if self.val_dataloader is None:\n",
    "            return\n",
    "        self.model.eval()\n",
    "        for batch in self.val_dataloader:\n",
    "            batch = self.prepare_batch(batch)\n",
    "            with torch.no_grad():\n",
    "                self.model.validation_step(batch)\n",
    "                self.val_batch_idx += 1\n",
    "            r, w = self.model.accuracy(batch, averaged=False)\n",
    "            num_right += r\n",
    "            num_wrong += w\n",
    "        self.val_acc.append(num_right / (num_right + num_wrong) *100 )\n",
    "        self.val_loss.append(num_wrong / (num_right + num_wrong) *100 )\n",
    "    \n",
    "    \n",
    "    def plot_loss(self):\n",
    "        self.train_loss = [x.to('cpu') for x in self.train_loss]\n",
    "        self.val_loss = [x.to('cpu') for x in self.val_loss]\n",
    "        fig, ax = plt.subplots(figsize=(4,4),layout='constrained')\n",
    "        epoch = [x for x in range(self.max_epochs)]\n",
    "        ax.plot(epoch,self.train_loss,color='b',label='Training Error')\n",
    "        ax.plot(epoch,self.val_loss,color='g',label='Validation Error')\n",
    "        ax.set_title('Error Plot')\n",
    "        ax.set_xlabel('Epochs')\n",
    "        ax.set_ylabel('Error %')\n",
    "        ax.legend()\n",
    "        ax.grid(True)\n",
    "        \n",
    "    def plot_accuracy(self):\n",
    "        self.train_acc = [x.to('cpu') for x in self.train_acc]\n",
    "        self.val_acc = [x.to('cpu') for x in self.val_acc]\n",
    "        fig, ax = plt.subplots(figsize=(4,4),layout='constrained')\n",
    "        epoch = [x for x in range(self.max_epochs)]\n",
    "        ax.plot(epoch,self.train_acc,color='b',label='Training Accuracy')\n",
    "        ax.plot(epoch,self.val_acc,color='g',label='Validation Accuracy')\n",
    "        ax.set_title('Accuracy Plot')\n",
    "        ax.set_xlabel('Epochs')\n",
    "        ax.set_ylabel('Accuracy %')\n",
    "        ax.legend()\n",
    "        ax.grid(True)\n",
    "    \n",
    "    \n",
    "    def prepare_batch(self, batch):\n",
    "        if self.gpu:\n",
    "            batch = [self.to_gpu(x) for x in batch]\n",
    "        return batch\n",
    "    \n",
    "\n",
    "    def prepare_model(self, model):\n",
    "        model.trainer = self\n",
    "        if self.gpu:\n",
    "            self.to_gpu(model)\n",
    "        self.model = model\n",
    "            \n",
    "            \n",
    "                \n",
    "    def has_gpu(self):\n",
    "        if torch.cuda.is_available():\n",
    "            return 'cuda'\n",
    "        elif torch.backends.mps.is_available():\n",
    "            return 'mps'\n",
    "        else:\n",
    "            return 'cpu'\n",
    "        \n",
    "    def to_gpu(self,x):\n",
    "        return(x.to(self.has_gpu()))\n",
    "    \n",
    "    def to_cpu():\n",
    "        return torch.device('cpu')\n",
    "        "
   ]
  },
  {
   "cell_type": "markdown",
   "id": "9e86f671",
   "metadata": {},
   "source": [
    "### Model"
   ]
  },
  {
   "cell_type": "markdown",
   "id": "728dbae0",
   "metadata": {},
   "source": [
    "#### AlexNet "
   ]
  },
  {
   "cell_type": "code",
   "execution_count": 8,
   "id": "df1a6d3e",
   "metadata": {},
   "outputs": [],
   "source": [
    "class AlexNet(Classifier): \n",
    "    def __init__(self, num_outputs=10, lr=0.1):\n",
    "        super().__init__()\n",
    "        self.num_classes = num_outputs\n",
    "        self.lr = lr\n",
    "        self.net = nn.Sequential(\n",
    "            nn.LazyConv2d(96, kernel_size=11, stride=4, padding=1),\n",
    "            nn.ReLU(), nn.MaxPool2d(kernel_size=3, stride=2),\n",
    "            nn.LazyConv2d(256, kernel_size=5, padding=2), nn.ReLU(),\n",
    "            nn.MaxPool2d(kernel_size=3, stride=2),\n",
    "            nn.LazyConv2d(384, kernel_size=3, padding=1), nn.ReLU(),\n",
    "            nn.LazyConv2d(384, kernel_size=3, padding=1), nn.ReLU(),\n",
    "            nn.LazyConv2d(256, kernel_size=3, padding=1), nn.ReLU(),\n",
    "            nn.MaxPool2d(kernel_size=3, stride=2), nn.Flatten(),\n",
    "            nn.LazyLinear(4096), nn.ReLU(), nn.Dropout(p=0.5),\n",
    "            nn.LazyLinear(4096), nn.ReLU(),nn.Dropout(p=0.5),\n",
    "            nn.LazyLinear(self.num_classes))\n",
    "        \n",
    "    def forward(self, X):\n",
    "        return self.net(X)\n",
    "    \n",
    "    def loss(self, Y_hat, Y, averaged=True):\n",
    "        return F.cross_entropy(\n",
    "            Y_hat, Y, reduction='mean' if averaged else 'none')\n",
    "    \n",
    "    def layer_summary(self, X_shape):\n",
    "        X = torch.randn(*X_shape)\n",
    "        for layer in self.net:\n",
    "            X = layer(X)\n",
    "            print(layer.__class__.__name__, 'output shape:\\t', X.shape)"
   ]
  },
  {
   "cell_type": "code",
   "execution_count": 9,
   "id": "71928cff",
   "metadata": {},
   "outputs": [
    {
     "name": "stderr",
     "output_type": "stream",
     "text": [
      "/Users/akrishdhakal/opt/miniconda3/lib/python3.9/site-packages/torch/nn/modules/lazy.py:180: UserWarning: Lazy modules are a new feature under heavy development so changes to the API or functionality can happen at any moment.\n",
      "  warnings.warn('Lazy modules are a new feature under heavy development '\n"
     ]
    },
    {
     "name": "stdout",
     "output_type": "stream",
     "text": [
      "Conv2d output shape:\t torch.Size([1, 96, 54, 54])\n",
      "ReLU output shape:\t torch.Size([1, 96, 54, 54])\n",
      "MaxPool2d output shape:\t torch.Size([1, 96, 26, 26])\n",
      "Conv2d output shape:\t torch.Size([1, 256, 26, 26])\n",
      "ReLU output shape:\t torch.Size([1, 256, 26, 26])\n",
      "MaxPool2d output shape:\t torch.Size([1, 256, 12, 12])\n",
      "Conv2d output shape:\t torch.Size([1, 384, 12, 12])\n",
      "ReLU output shape:\t torch.Size([1, 384, 12, 12])\n",
      "Conv2d output shape:\t torch.Size([1, 384, 12, 12])\n",
      "ReLU output shape:\t torch.Size([1, 384, 12, 12])\n",
      "Conv2d output shape:\t torch.Size([1, 256, 12, 12])\n",
      "ReLU output shape:\t torch.Size([1, 256, 12, 12])\n",
      "MaxPool2d output shape:\t torch.Size([1, 256, 5, 5])\n",
      "Flatten output shape:\t torch.Size([1, 6400])\n",
      "Linear output shape:\t torch.Size([1, 4096])\n",
      "ReLU output shape:\t torch.Size([1, 4096])\n",
      "Dropout output shape:\t torch.Size([1, 4096])\n",
      "Linear output shape:\t torch.Size([1, 4096])\n",
      "ReLU output shape:\t torch.Size([1, 4096])\n",
      "Dropout output shape:\t torch.Size([1, 4096])\n",
      "Linear output shape:\t torch.Size([1, 10])\n",
      "AlexNet(\n",
      "  (net): Sequential(\n",
      "    (0): Conv2d(1, 96, kernel_size=(11, 11), stride=(4, 4), padding=(1, 1))\n",
      "    (1): ReLU()\n",
      "    (2): MaxPool2d(kernel_size=3, stride=2, padding=0, dilation=1, ceil_mode=False)\n",
      "    (3): Conv2d(96, 256, kernel_size=(5, 5), stride=(1, 1), padding=(2, 2))\n",
      "    (4): ReLU()\n",
      "    (5): MaxPool2d(kernel_size=3, stride=2, padding=0, dilation=1, ceil_mode=False)\n",
      "    (6): Conv2d(256, 384, kernel_size=(3, 3), stride=(1, 1), padding=(1, 1))\n",
      "    (7): ReLU()\n",
      "    (8): Conv2d(384, 384, kernel_size=(3, 3), stride=(1, 1), padding=(1, 1))\n",
      "    (9): ReLU()\n",
      "    (10): Conv2d(384, 256, kernel_size=(3, 3), stride=(1, 1), padding=(1, 1))\n",
      "    (11): ReLU()\n",
      "    (12): MaxPool2d(kernel_size=3, stride=2, padding=0, dilation=1, ceil_mode=False)\n",
      "    (13): Flatten(start_dim=1, end_dim=-1)\n",
      "    (14): Linear(in_features=6400, out_features=4096, bias=True)\n",
      "    (15): ReLU()\n",
      "    (16): Dropout(p=0.5, inplace=False)\n",
      "    (17): Linear(in_features=4096, out_features=4096, bias=True)\n",
      "    (18): ReLU()\n",
      "    (19): Dropout(p=0.5, inplace=False)\n",
      "    (20): Linear(in_features=4096, out_features=10, bias=True)\n",
      "  )\n",
      ")\n"
     ]
    }
   ],
   "source": [
    "model = AlexNet()\n",
    "model.layer_summary((1, 1, 224, 224))\n",
    "print(model)\n"
   ]
  },
  {
   "cell_type": "markdown",
   "id": "8e70eb66",
   "metadata": {},
   "source": [
    "#### Initilize CNN"
   ]
  },
  {
   "cell_type": "code",
   "execution_count": 21,
   "id": "5e8dd22f",
   "metadata": {},
   "outputs": [],
   "source": [
    "def init_cnn(module):\n",
    "    \"\"\"Initialize weights for CNNs.\"\"\"\n",
    "    if type(module) == nn.Linear or type(module) == nn.Conv2d:\n",
    "        nn.init.xavier_uniform_(module.weight)"
   ]
  },
  {
   "cell_type": "markdown",
   "id": "5f50c9b6",
   "metadata": {},
   "source": [
    "### Execution"
   ]
  },
  {
   "cell_type": "code",
   "execution_count": 27,
   "id": "9758085d",
   "metadata": {},
   "outputs": [
    {
     "name": "stdout",
     "output_type": "stream",
     "text": [
      "Epoch:: 0 \n",
      "Accuracy: 12.460000991821289\n",
      "Epoch:: 1 \n",
      "Accuracy: 12.90000057220459\n",
      "Epoch:: 2 \n",
      "Accuracy: 13.000000953674316\n",
      "Epoch:: 3 \n",
      "Accuracy: 13.300000190734863\n",
      "Epoch:: 4 \n",
      "Accuracy: 13.40000057220459\n",
      "Epoch:: 5 \n"
     ]
    },
    {
     "ename": "KeyboardInterrupt",
     "evalue": "",
     "output_type": "error",
     "traceback": [
      "\u001b[0;31m---------------------------------------------------------------------------\u001b[0m",
      "\u001b[0;31mKeyboardInterrupt\u001b[0m                         Traceback (most recent call last)",
      "Cell \u001b[0;32mIn [27], line 17\u001b[0m\n\u001b[1;32m     15\u001b[0m model \u001b[38;5;241m=\u001b[39m AlexNet(num_outputs, lr)\n\u001b[1;32m     16\u001b[0m trainer \u001b[38;5;241m=\u001b[39m Trainer(max_epochs,gpu)\n\u001b[0;32m---> 17\u001b[0m \u001b[43mtrainer\u001b[49m\u001b[38;5;241;43m.\u001b[39;49m\u001b[43mfit\u001b[49m\u001b[43m(\u001b[49m\u001b[43mmodel\u001b[49m\u001b[43m,\u001b[49m\u001b[43m \u001b[49m\u001b[43mdata\u001b[49m\u001b[43m)\u001b[49m\n\u001b[1;32m     18\u001b[0m end \u001b[38;5;241m=\u001b[39m time\u001b[38;5;241m.\u001b[39mtime()\n\u001b[1;32m     19\u001b[0m \u001b[38;5;28mprint\u001b[39m(\u001b[38;5;124mf\u001b[39m\u001b[38;5;124m'\u001b[39m\u001b[38;5;124mExucation Time in Second: \u001b[39m\u001b[38;5;132;01m{\u001b[39;00mend\u001b[38;5;241m-\u001b[39mstart\u001b[38;5;132;01m}\u001b[39;00m\u001b[38;5;124m'\u001b[39m)\n",
      "Cell \u001b[0;32mIn [18], line 28\u001b[0m, in \u001b[0;36mTrainer.fit\u001b[0;34m(self, model, data)\u001b[0m\n\u001b[1;32m     26\u001b[0m \u001b[38;5;28;01mfor\u001b[39;00m \u001b[38;5;28mself\u001b[39m\u001b[38;5;241m.\u001b[39mepoch \u001b[38;5;129;01min\u001b[39;00m \u001b[38;5;28mrange\u001b[39m(\u001b[38;5;28mself\u001b[39m\u001b[38;5;241m.\u001b[39mmax_epochs):\n\u001b[1;32m     27\u001b[0m     \u001b[38;5;28mprint\u001b[39m(\u001b[38;5;124mf\u001b[39m\u001b[38;5;124m'\u001b[39m\u001b[38;5;124mEpoch:: \u001b[39m\u001b[38;5;132;01m{\u001b[39;00m\u001b[38;5;28mself\u001b[39m\u001b[38;5;241m.\u001b[39mepoch\u001b[38;5;132;01m}\u001b[39;00m\u001b[38;5;124m \u001b[39m\u001b[38;5;124m'\u001b[39m)\n\u001b[0;32m---> 28\u001b[0m     \u001b[38;5;28;43mself\u001b[39;49m\u001b[38;5;241;43m.\u001b[39;49m\u001b[43mfit_epoch\u001b[49m\u001b[43m(\u001b[49m\u001b[43m)\u001b[49m\n\u001b[1;32m     29\u001b[0m     \u001b[38;5;28mself\u001b[39m\u001b[38;5;241m.\u001b[39mval_epoch()\n\u001b[1;32m     30\u001b[0m \u001b[38;5;28mself\u001b[39m\u001b[38;5;241m.\u001b[39mplot_loss()\n",
      "Cell \u001b[0;32mIn [18], line 38\u001b[0m, in \u001b[0;36mTrainer.fit_epoch\u001b[0;34m(self)\u001b[0m\n\u001b[1;32m     36\u001b[0m num_wrong \u001b[38;5;241m=\u001b[39m \u001b[38;5;241m0.0\u001b[39m\n\u001b[1;32m     37\u001b[0m \u001b[38;5;28;01mfor\u001b[39;00m batch \u001b[38;5;129;01min\u001b[39;00m \u001b[38;5;28mself\u001b[39m\u001b[38;5;241m.\u001b[39mtrain_dataloader:\n\u001b[0;32m---> 38\u001b[0m     batch \u001b[38;5;241m=\u001b[39m \u001b[38;5;28;43mself\u001b[39;49m\u001b[38;5;241;43m.\u001b[39;49m\u001b[43mprepare_batch\u001b[49m\u001b[43m(\u001b[49m\u001b[43mbatch\u001b[49m\u001b[43m)\u001b[49m\n\u001b[1;32m     39\u001b[0m     loss \u001b[38;5;241m=\u001b[39m \u001b[38;5;28mself\u001b[39m\u001b[38;5;241m.\u001b[39mmodel\u001b[38;5;241m.\u001b[39mtraining_step(batch)\n\u001b[1;32m     40\u001b[0m     \u001b[38;5;28mself\u001b[39m\u001b[38;5;241m.\u001b[39moptim\u001b[38;5;241m.\u001b[39mzero_grad()\n",
      "Cell \u001b[0;32mIn [18], line 101\u001b[0m, in \u001b[0;36mTrainer.prepare_batch\u001b[0;34m(self, batch)\u001b[0m\n\u001b[1;32m     99\u001b[0m \u001b[38;5;28;01mdef\u001b[39;00m \u001b[38;5;21mprepare_batch\u001b[39m(\u001b[38;5;28mself\u001b[39m, batch):\n\u001b[1;32m    100\u001b[0m     \u001b[38;5;28;01mif\u001b[39;00m \u001b[38;5;28mself\u001b[39m\u001b[38;5;241m.\u001b[39mgpu:\n\u001b[0;32m--> 101\u001b[0m         batch \u001b[38;5;241m=\u001b[39m [\u001b[38;5;28mself\u001b[39m\u001b[38;5;241m.\u001b[39mto_gpu(x) \u001b[38;5;28;01mfor\u001b[39;00m x \u001b[38;5;129;01min\u001b[39;00m batch]\n\u001b[1;32m    102\u001b[0m     \u001b[38;5;28;01mreturn\u001b[39;00m batch\n",
      "Cell \u001b[0;32mIn [18], line 101\u001b[0m, in \u001b[0;36m<listcomp>\u001b[0;34m(.0)\u001b[0m\n\u001b[1;32m     99\u001b[0m \u001b[38;5;28;01mdef\u001b[39;00m \u001b[38;5;21mprepare_batch\u001b[39m(\u001b[38;5;28mself\u001b[39m, batch):\n\u001b[1;32m    100\u001b[0m     \u001b[38;5;28;01mif\u001b[39;00m \u001b[38;5;28mself\u001b[39m\u001b[38;5;241m.\u001b[39mgpu:\n\u001b[0;32m--> 101\u001b[0m         batch \u001b[38;5;241m=\u001b[39m [\u001b[38;5;28;43mself\u001b[39;49m\u001b[38;5;241;43m.\u001b[39;49m\u001b[43mto_gpu\u001b[49m\u001b[43m(\u001b[49m\u001b[43mx\u001b[49m\u001b[43m)\u001b[49m \u001b[38;5;28;01mfor\u001b[39;00m x \u001b[38;5;129;01min\u001b[39;00m batch]\n\u001b[1;32m    102\u001b[0m     \u001b[38;5;28;01mreturn\u001b[39;00m batch\n",
      "Cell \u001b[0;32mIn [18], line 122\u001b[0m, in \u001b[0;36mTrainer.to_gpu\u001b[0;34m(self, x)\u001b[0m\n\u001b[1;32m    121\u001b[0m \u001b[38;5;28;01mdef\u001b[39;00m \u001b[38;5;21mto_gpu\u001b[39m(\u001b[38;5;28mself\u001b[39m,x):\n\u001b[0;32m--> 122\u001b[0m     \u001b[38;5;28;01mreturn\u001b[39;00m(\u001b[43mx\u001b[49m\u001b[38;5;241;43m.\u001b[39;49m\u001b[43mto\u001b[49m\u001b[43m(\u001b[49m\u001b[38;5;28;43mself\u001b[39;49m\u001b[38;5;241;43m.\u001b[39;49m\u001b[43mhas_gpu\u001b[49m\u001b[43m(\u001b[49m\u001b[43m)\u001b[49m\u001b[43m)\u001b[49m)\n",
      "\u001b[0;31mKeyboardInterrupt\u001b[0m: "
     ]
    }
   ],
   "source": [
    "batch_size = 24\n",
    "num_outputs = 10\n",
    "lr = 5e3\n",
    "max_epochs = 10\n",
    "gpu = True\n",
    "\n",
    "resize=(224, 224)\n",
    "subset=True\n",
    "subset_size = 5000\n",
    "\n",
    "\n",
    " \n",
    "start = time.time()\n",
    "data = FashionMNIST(batch_size,resize,subset,subset_size)\n",
    "model = AlexNet(num_outputs, lr)\n",
    "trainer = Trainer(max_epochs,gpu)\n",
    "trainer.fit(model, data)\n",
    "end = time.time()\n",
    "print(f'Exucation Time in Second: {end-start}')\n"
   ]
  },
  {
   "cell_type": "markdown",
   "id": "1162b0a2",
   "metadata": {},
   "source": [
    "#### Reference:\n",
    "https://d2l.ai"
   ]
  },
  {
   "cell_type": "code",
   "execution_count": null,
   "id": "07a8e554",
   "metadata": {},
   "outputs": [],
   "source": []
  },
  {
   "cell_type": "code",
   "execution_count": null,
   "id": "da2b377f",
   "metadata": {},
   "outputs": [],
   "source": []
  },
  {
   "cell_type": "code",
   "execution_count": null,
   "id": "35ba4a16",
   "metadata": {},
   "outputs": [],
   "source": []
  },
  {
   "cell_type": "code",
   "execution_count": null,
   "id": "3818b86a",
   "metadata": {},
   "outputs": [],
   "source": []
  }
 ],
 "metadata": {
  "kernelspec": {
   "display_name": "Python 3 (ipykernel)",
   "language": "python",
   "name": "python3"
  },
  "language_info": {
   "codemirror_mode": {
    "name": "ipython",
    "version": 3
   },
   "file_extension": ".py",
   "mimetype": "text/x-python",
   "name": "python",
   "nbconvert_exporter": "python",
   "pygments_lexer": "ipython3",
   "version": "3.9.12"
  }
 },
 "nbformat": 4,
 "nbformat_minor": 5
}
